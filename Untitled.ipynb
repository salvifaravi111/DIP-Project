{
 "cells": [
  {
   "cell_type": "code",
   "execution_count": 2,
   "metadata": {},
   "outputs": [],
   "source": [
    "import sys\n",
    "import time\n",
    "\n",
    "import numpy as np\n",
    "\n",
    "from matplotlib.backends.qt_compat import QtCore, QtWidgets, is_pyqt5\n",
    "if is_pyqt5():\n",
    "    from matplotlib.backends.backend_qt5agg import (\n",
    "        FigureCanvas, NavigationToolbar2QT as NavigationToolbar)\n",
    "else:\n",
    "    from matplotlib.backends.backend_qt4agg import (\n",
    "        FigureCanvas, NavigationToolbar2QT as NavigationToolbar)\n",
    "from matplotlib.figure import Figure\n",
    "from PyQt5.QtWidgets import QApplication, QWidget, QPushButton, QHBoxLayout, QGroupBox, QDialog, QVBoxLayout, QGridLayout\n",
    "from PyQt5.QtGui import QIcon\n",
    "from PyQt5.QtCore import pyqtSlot\n",
    "import cv2 as cv\n",
    "img = cv.imread('Dataset/50__M_Right_thumb_finger.BMP',0)\n",
    "ret,th1 = cv.threshold(img,100,255,cv.THRESH_BINARY)\n",
    "th2 = cv.adaptiveThreshold(img,255,cv.ADAPTIVE_THRESH_MEAN_C,\\\n",
    "            cv.THRESH_BINARY,11,2)\n",
    "th3 = cv.adaptiveThreshold(img,255,cv.ADAPTIVE_THRESH_GAUSSIAN_C,\\\n",
    "            cv.THRESH_BINARY,11,2)\n",
    "titles = ['Original Image', 'Global Thresholding (v = 127)',\n",
    "            'Adaptive Mean Thresholding', 'Adaptive Gaussian Thresholding']\n",
    "images = [img, th1, th2, th3]\n",
    "\n",
    "class ApplicationWindow(QtWidgets.QMainWindow):\n",
    "    def __init__(self):\n",
    "        super().__init__()\n",
    "        self._main = QtWidgets.QWidget()\n",
    "        self.setCentralWidget(self._main)\n",
    "        layout = QtWidgets.QVBoxLayout(self._main)\n",
    "        \n",
    "        static_canvas = FigureCanvas(Figure(figsize=(12, 8)))\n",
    "        layout.addWidget(static_canvas)\n",
    "        self.addToolBar(NavigationToolbar(static_canvas, self))\n",
    "        self._static_ax = [static_canvas.figure.add_subplot(221),static_canvas.figure.add_subplot(222),static_canvas.figure.add_subplot(223),static_canvas.figure.add_subplot(224)]\n",
    "        \n",
    "        for i in range(4):\n",
    "            self._static_ax[i].set_title(titles[i])\n",
    "            self._static_ax[i].imshow(images[i],'gray')\n",
    "\n",
    "if __name__ == \"__main__\":\n",
    "    qapp = QtWidgets.QApplication(sys.argv)\n",
    "    app = ApplicationWindow()\n",
    "    app.show()\n",
    "    qapp.exec_()"
   ]
  },
  {
   "cell_type": "code",
   "execution_count": null,
   "metadata": {
    "collapsed": true
   },
   "outputs": [],
   "source": []
  },
  {
   "cell_type": "code",
   "execution_count": null,
   "metadata": {
    "collapsed": true
   },
   "outputs": [],
   "source": []
  }
 ],
 "metadata": {
  "kernelspec": {
   "display_name": "Python 3",
   "language": "python",
   "name": "python3"
  }
 },
 "nbformat": 4,
 "nbformat_minor": 2
}
